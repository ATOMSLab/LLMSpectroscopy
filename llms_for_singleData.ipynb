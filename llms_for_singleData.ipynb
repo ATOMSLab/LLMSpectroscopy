{
 "cells": [
  {
   "cell_type": "markdown",
   "metadata": {},
   "source": [
    "## Use your API key here"
   ]
  },
  {
   "cell_type": "code",
   "execution_count": 77,
   "metadata": {},
   "outputs": [],
   "source": [
    "api = 'sk-proj-***'"
   ]
  },
  {
   "cell_type": "markdown",
   "metadata": {},
   "source": [
    "## Basic Prompt Structure with input variables for data and chemical formula"
   ]
  },
  {
   "cell_type": "code",
   "execution_count": 78,
   "metadata": {},
   "outputs": [],
   "source": [
    "system_message = \"\"\"\n",
    "You are an expert in NMR spectroscopy and organic chemistry.\n",
    "\"\"\"\n",
    "\n",
    "user_prompt = \"\"\"\n",
    "Here are the peaks from an NMR spectrum: {spectrum_data}.\n",
    "The chemical formula is {chemical_formula}. What's the molecule? \n",
    "Think step-by-step, making extensive use of a scratchpad to record your thoughts. Consider finding ways to group related peaks \n",
    "together, and keep track of the stoichiometry and the amount of unassigned H atoms as you make provisional assignments.\n",
    "Format the final answer like this - \n",
    "### Scratchpad ### <scratchpad> ### Scratchpad ###\n",
    "### Start answer ### <prediction> ### End answer ###\n",
    "The prediction should only contain the name of the molecule and no other text or cha\n",
    "\n",
    "\"\"\""
   ]
  },
  {
   "cell_type": "markdown",
   "metadata": {},
   "source": [
    "## Call to OpenAI"
   ]
  },
  {
   "cell_type": "code",
   "execution_count": 80,
   "metadata": {},
   "outputs": [],
   "source": [
    "from langchain_openai import ChatOpenAI\n",
    "from langchain_core.output_parsers import StrOutputParser\n",
    "from langchain_core.prompts import ChatPromptTemplate\n",
    "import json\n",
    "\n",
    "def call_openAI(spec_data, chem_formula, system_message=system_message, user_prompt=user_prompt, \n",
    "             api_key = api,\n",
    "             model = \"gpt-4-0613\"):\n",
    "             #\"gpt-3.5-turbo\"):\n",
    "\n",
    "    llm = ChatOpenAI(api_key=api_key, model = model)\n",
    "\n",
    "    prompt = ChatPromptTemplate.from_messages([\n",
    "    (\"system\", system_message),\n",
    "    (\"user\", user_prompt)])\n",
    "\n",
    "    llm = ChatOpenAI(api_key=api_key, model=model)\n",
    "\n",
    "    parser = StrOutputParser()\n",
    "    \n",
    "    chain = prompt | llm | parser\n",
    "\n",
    "    llm_output = chain.invoke({\"spectrum_data\": spec_data, \"chemical_formula\": chem_formula})\n",
    "    return llm_output\n"
   ]
  },
  {
   "cell_type": "markdown",
   "metadata": {},
   "source": [
    "## Call to Anthropic"
   ]
  },
  {
   "cell_type": "code",
   "execution_count": 81,
   "metadata": {},
   "outputs": [],
   "source": [
    "from langchain_anthropic import ChatAnthropic\n",
    "from langchain_core.output_parsers import StrOutputParser\n",
    "\n",
    "claude_api_key = \"replace with actual key",
    "\n",
    "def call_claude(spec_data, chem_formula, system_message=system_message, user_prompt=user_prompt, \n",
    "             api_key = api,\n",
    "             model = 'claude-3-opus-20240229'):\n",
    "             #\"gpt-3.5-turbo\"):\n",
    "\n",
    "    llm = ChatOpenAI(api_key=api_key, model = model)\n",
    "\n",
    "    prompt = ChatPromptTemplate.from_messages([\n",
    "    (\"system\", system_message),\n",
    "    (\"user\", user_prompt)])\n",
    "\n",
    "    llm = ChatAnthropic(api_key=claude_api_key, model=model)\n",
    "\n",
    "    parser = StrOutputParser()\n",
    "    \n",
    "    chain = prompt | llm | parser\n",
    "\n",
    "    llm_output = chain.invoke({\"spectrum_data\": spec_data, \"chemical_formula\": chem_formula})\n",
    "    return llm_output\n"
   ]
  },
  {
   "cell_type": "code",
   "execution_count": 82,
   "metadata": {},
   "outputs": [],
   "source": [
    "import os\n",
    "import csv\n",
    "\n",
    "with open(\"LLMSpectroscopy/dummy_dataset/1H-NMR-513-81-5.csv\", 'r') as csvfile:\n",
    "    csvreader = csv.reader(csvfile)\n",
    "    next(csvreader)\n",
    "            \n",
    "    data_string = \"\"\n",
    "              \n",
    "    for row in csvreader:\n",
    "        row_string = \", \".join(row)\n",
    "        data_string += row_string + \"\\n\"  \n",
    "specs_data = data_string"
   ]
  },
  {
   "cell_type": "code",
   "execution_count": 83,
   "metadata": {},
   "outputs": [
    {
     "data": {
      "text/plain": [
       "\"### Scratchpad ###\\n\\nThe chemical formula is C6H10. This tells us that there are 6 carbon atoms and 10 hydrogen atoms in the molecule.\\n\\nThe NMR spectrum shows several peaks, which are likely due to different types of protons in the molecule. \\n\\nI'll start off by grouping related peaks together. \\n\\nThe peaks at 452.75, 451.94, 446.44, 445.44, 444.06, and 443.13 all have similar shifts and intensities, which suggests they may be due to the same type of proton. This could suggest a symmetrical structure.\\n\\nThe peaks at 172.19 and 171.75 also have similar shifts and intensities, which again suggests they are due to the same type of proton. \\n\\nNow, let's try to assign these peaks to the protons in the molecule.\\n\\nThe chemical shift of protons can give us a hint about the type of environment they are in. The peaks at 452.75, 451.94, 446.44, 445.44, 444.06, and 443.13 have high shifts, which could suggest they are in an electron-withdrawing environment, such as a carbonyl group.\\n\\nThe peaks at 172.19 and 171.75 have lower shifts, which could suggest they are in a less electron-withdrawing environment.\\n\\nGiven the stoichiometry of the molecule (C6H10), it's likely that the molecule contains a ring or a double bond. Considering the NMR data, a cyclohexene structure could fit the data. The high shift protons could be the vinylic protons adjacent to the double bond, and the lower shift protons could be the protons on the remaining carbon atoms in the ring.\\n\\n### Scratchpad ###\\n\\n### Start answer ### \\n\\nCyclohexene\\n\\n### End answer ###\""
      ]
     },
     "execution_count": 83,
     "metadata": {},
     "output_type": "execute_result"
    }
   ],
   "source": [
    "output_gpt4 = call_openAI(specs_data, 'C6H10')\n",
    "output_gpt4\n"
   ]
  },
  {
   "cell_type": "code",
   "execution_count": 74,
   "metadata": {},
   "outputs": [
    {
     "data": {
      "text/plain": [
       "'### Scratchpad ###\\nChemical formula C6H10 - benzene is ruled out (not enough H). Likely a cyclic or linear alkene.\\n\\nPeaks (ppm, # H):\\n5.056  (1H)\\n5.047  (1H)\\n4.985  (1H)\\n4.974  (1H)  \\n4.959  (1H)\\n4.948  (1H)\\n1.923  (5H)\\n1.918  (5H)\\n\\n6 H from 4.9-5.1 ppm - likely alkene protons\\n10 H from 1.9-1.95 ppm - likely alkyl protons \\n\\nRatios:\\n6H : 10H alkene to alkyl\\nAlkene protons split into 6 separate peaks, alkyl into 2 (5H each)\\n\\nPossibilities:\\n1) 1,5-hexadiene (matches 6 alkene H, 4 alkyl H - 6 too few)  \\n2) 2,4-hexadiene (matches 6 alkene H, 4 alkyl H - 6 too few)\\n3) methylcyclopentene (5 alkene H - 1 too few, 5 alkyl - 5 too few)\\n4) methylenecyclopentane (2 alkene H - 4 too few, 8 alkyl - 2 too few)\\n\\nNone match perfectly. Methylcyclopentene is closest. The 6 alkene peaks could be the 5 ring protons next to the double bond, with long range coupling causing the extra splitting. The 10 alkyl protons match the 5 ring methylenes + the 5 methyl protons.\\n### Scratchpad ###\\n\\n### Start answer ###\\nmethylcyclopentene\\n### End answer ###'"
      ]
     },
     "execution_count": 74,
     "metadata": {},
     "output_type": "execute_result"
    }
   ],
   "source": [
    "output_claude = call_claude(specs_data, 'C6H10')\n",
    "output_claude"
   ]
  },
  {
   "cell_type": "markdown",
   "metadata": {},
   "source": [
    "## Output Parser"
   ]
  },
  {
   "cell_type": "code",
   "execution_count": 84,
   "metadata": {},
   "outputs": [
    {
     "name": "stdout",
     "output_type": "stream",
     "text": [
      "GPT4: Cyclohexene\n",
      "Claude: methylcyclopentene\n"
     ]
    }
   ],
   "source": [
    "def extract_answer(analysis_string):\n",
    "    start_pos = analysis_string.find(\"### Start answer ###\") + len(\"### Start answer ###\")\n",
    "    end_pos = analysis_string.find(\"### End answer ###\")\n",
    "\n",
    "    answer = analysis_string[start_pos:end_pos].strip()\n",
    "    return answer\n",
    "\n",
    "print(\"GPT4:\", extract_answer(output_gpt4) )\n",
    "print(\"Claude:\", extract_answer(output_claude))"
   ]
  },
  {
   "cell_type": "code",
   "execution_count": null,
   "metadata": {},
   "outputs": [],
   "source": []
  }
 ],
 "metadata": {
  "kernelspec": {
   "display_name": "llms4chem",
   "language": "python",
   "name": "python3"
  },
  "language_info": {
   "codemirror_mode": {
    "name": "ipython",
    "version": 3
   },
   "file_extension": ".py",
   "mimetype": "text/x-python",
   "name": "python",
   "nbconvert_exporter": "python",
   "pygments_lexer": "ipython3",
   "version": "3.12.3"
  }
 },
 "nbformat": 4,
 "nbformat_minor": 2
}
