{
 "cells": [
  {
   "cell_type": "markdown",
   "metadata": {},
   "source": [
    "## Use your API key here"
   ]
  },
  {
   "cell_type": "code",
   "execution_count": 1,
   "metadata": {},
   "outputs": [],
   "source": [
    "api = 'sk-proj'#(use your own key)"
   ]
  },
  {
   "cell_type": "markdown",
   "metadata": {},
   "source": [
    "## Basic Prompt Structure with input variables for data and chemical formula"
   ]
  },
  {
   "cell_type": "code",
   "execution_count": 2,
   "metadata": {},
   "outputs": [],
   "source": [
    "system_message = \"\"\"\n",
    "You are an expert in NMR spectroscopy and organic chemistry.\n",
    "\"\"\"\n",
    "\n",
    "user_prompt = \"\"\"\n",
    "Here are the peaks from an NMR spectrum: {spectrum_data}.\n",
    "The chemical formula is {chemical_formula}. What's the molecule? \n",
    "Think step-by-step, making extensive use of a scratchpad to record your thoughts. Consider finding ways to group related peaks \n",
    "together, and keep track of the stoichiometry and the amount of unassigned H atoms as you make provisional assignments.\n",
    "Format the final answer like this - \n",
    "### Scratchpad ### <scratchpad> ### Scratchpad ###\n",
    "### Start answer ### <prediction> ### End answer ###\n",
    "The prediction should only contain the name of the molecule and no other text or cha\n",
    "\n",
    "\"\"\""
   ]
  },
  {
   "cell_type": "markdown",
   "metadata": {},
   "source": [
    "## Call to OpenAI"
   ]
  },
  {
   "cell_type": "code",
   "execution_count": 3,
   "metadata": {},
   "outputs": [],
   "source": [
    "from langchain_openai import ChatOpenAI\n",
    "from langchain_core.output_parsers import StrOutputParser\n",
    "from langchain_core.prompts import ChatPromptTemplate\n",
    "import json\n",
    "\n",
    "def call_openAI(spec_data, chem_formula, system_message=system_message, user_prompt=user_prompt, \n",
    "             api_key = api,\n",
    "             model = \"gpt-4-0613\"):\n",
    "             #\"gpt-3.5-turbo\"):\n",
    "\n",
    "    llm = ChatOpenAI(api_key=api_key, model = model)\n",
    "\n",
    "    prompt = ChatPromptTemplate.from_messages([\n",
    "    (\"system\", system_message),\n",
    "    (\"user\", user_prompt)])\n",
    "\n",
    "    llm = ChatOpenAI(api_key=api_key, model=model)\n",
    "\n",
    "    parser = StrOutputParser()\n",
    "    \n",
    "    chain = prompt | llm | parser\n",
    "\n",
    "    llm_output = chain.invoke({\"spectrum_data\": spec_data, \"chemical_formula\": chem_formula})\n",
    "    return llm_output\n"
   ]
  },
  {
   "cell_type": "code",
   "execution_count": 4,
   "metadata": {},
   "outputs": [],
   "source": [
    "import os\n",
    "import csv\n",
    "\n",
    "with open(\"csvfiles_update/64-17-5_C2H6O_Ethanol_HNMR.csv\") as csvfile:\n",
    "    csvreader = csv.reader(csvfile)\n",
    "    next(csvreader)\n",
    "            \n",
    "    data_string = \"\"\n",
    "              \n",
    "    for row in csvreader:\n",
    "        row_string = \", \".join(row)\n",
    "        data_string += row_string + \"\\n\"  \n",
    "specs_data = data_string"
   ]
  },
  {
   "cell_type": "code",
   "execution_count": 5,
   "metadata": {},
   "outputs": [
    {
     "data": {
      "text/plain": [
       "'### Scratchpad ### \\n\\nThe given molecular formula is C2H6O, which corresponds to a molecule with 2 carbons, 6 hydrogens and 1 oxygen. \\n\\nThe possibilities for this formula are ethanol, dimethyl ether, and methoxyethane. \\n\\nThe NMR spectrum provides a list of chemical shifts, which can help us identify the structure of the molecule. \\n\\nPeaks in the range 3-4 ppm typically indicate the presence of protons bonded to a carbon atom adjacent to an oxygen atom. Peaks in the range of 1-2 ppm typically indicate the presence of protons bonded to a carbon atom that is not directly bonded to a heteroatom or in a functional group. \\n\\nLooking at the given data, there are three peaks in the range of 3-4 ppm (3.811, 3.73, 3.652) with a high intensity which suggests that there are three protons bonded to a carbon atom adjacent to an oxygen atom. \\n\\nThere are also multiple peaks in the range of 1-2 ppm (1.303, 1.286, 1.226, 1.207, 1.199, 1.146) with variable intensities. \\n\\nThe presence of these peaks suggests that the molecule is likely ethanol, which contains a -CH2CH3 group (six protons) and a -OH group (one proton). \\n\\n### Start answer ### Ethanol ### End answer ###'"
      ]
     },
     "execution_count": 5,
     "metadata": {},
     "output_type": "execute_result"
    }
   ],
   "source": [
    "output_gpt4 = call_openAI(specs_data, 'C2H6O')\n",
    "output_gpt4\n"
   ]
  },
  {
   "cell_type": "code",
   "execution_count": 12,
   "metadata": {},
   "outputs": [
    {
     "data": {
      "text/plain": [
       "'### Scratchpad ### \\n\\nThe chemical formula for the compound is C2H6O. \\n\\nFrom the NMR data:\\n\\nPeak 1: 1.24-1.25, triplet, integration = 3H. This peak is a triplet, which indicates that it has two neighboring hydrogen atoms. The integration value of 3H means there are 3 hydrogen atoms in this group. This is likely a CH3 group.\\n\\nPeak 2: 1.4, singlet, integration = 1.7*. It is mentioned that this is an exchangeable hydrogen, which is characteristic of alcohols or acids. In this case, the chemical formula indicates it is an alcohol.\\n\\nPeak 3: 3.70-3.74, quadruplet, integration = 2H. This peak is a quadruplet, which indicates that it has three neighboring hydrogen atoms. The integration value of 2H means there are 2 hydrogen atoms in this group. This is likely a CH2 group.\\n\\nSo, based on these data, the molecule likely has a CH3 group, a CH2 group, and an OH group, which fits the formula C2H6O.\\n\\n### Scratchpad ###\\n\\n### Start answer ### Ethanol ### End answer ###'"
      ]
     },
     "execution_count": 12,
     "metadata": {},
     "output_type": "execute_result"
    }
   ],
   "source": [
    "output_gpt4 = call_openAI(specs_data, \"\"\"Peak1: 1.24-1.25, triplet, integration = 3H\n",
    "Peak2: 1.4, singlet, integration = 1.7* - exchangeable hydrogen\n",
    "Peak3: 3.70-3.74, quadruplet, integration = 2H\n",
    "Chemical formula: C2H6O\"\"\")\n",
    "output_gpt4\n"
   ]
  },
  {
   "cell_type": "markdown",
   "metadata": {},
   "source": [
    "## Output Parser"
   ]
  },
  {
   "cell_type": "code",
   "execution_count": 6,
   "metadata": {},
   "outputs": [
    {
     "name": "stdout",
     "output_type": "stream",
     "text": [
      "GPT4: Ethanol\n"
     ]
    }
   ],
   "source": [
    "def extract_answer(analysis_string):\n",
    "    start_pos = analysis_string.find(\"### Start answer ###\") + len(\"### Start answer ###\")\n",
    "    end_pos = analysis_string.find(\"### End answer ###\")\n",
    "\n",
    "    answer = analysis_string[start_pos:end_pos].strip()\n",
    "    return answer\n",
    "\n",
    "print(\"GPT4:\", extract_answer(output_gpt4) )\n",
    "#print(\"Claude:\", extract_answer(output_claude))"
   ]
  },
  {
   "cell_type": "code",
   "execution_count": null,
   "metadata": {},
   "outputs": [],
   "source": []
  }
 ],
 "metadata": {
  "kernelspec": {
   "display_name": "Python 3 (ipykernel)",
   "language": "python",
   "name": "python3"
  },
  "language_info": {
   "codemirror_mode": {
    "name": "ipython",
    "version": 3
   },
   "file_extension": ".py",
   "mimetype": "text/x-python",
   "name": "python",
   "nbconvert_exporter": "python",
   "pygments_lexer": "ipython3",
   "version": "3.9.13"
  }
 },
 "nbformat": 4,
 "nbformat_minor": 2
}
